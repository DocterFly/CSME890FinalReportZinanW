{
 "cells": [
  {
   "cell_type": "code",
   "execution_count": 1,
   "metadata": {},
   "outputs": [],
   "source": [
    "import pandas as pd\n",
    "import sys"
   ]
  },
  {
   "cell_type": "code",
   "execution_count": 2,
   "metadata": {},
   "outputs": [],
   "source": [
    "gene_db = pd.read_table(\"feature_db_part1.txt\")"
   ]
  },
  {
   "cell_type": "code",
   "execution_count": null,
   "metadata": {},
   "outputs": [],
   "source": [
    "gene_db.head()"
   ]
  },
  {
   "cell_type": "code",
   "execution_count": null,
   "metadata": {},
   "outputs": [],
   "source": [
    "gene_db"
   ]
  },
  {
   "cell_type": "code",
   "execution_count": 3,
   "metadata": {},
   "outputs": [],
   "source": [
    "cds_db = pd.read_table(\"feature_db_part2.txt\")"
   ]
  },
  {
   "cell_type": "code",
   "execution_count": null,
   "metadata": {},
   "outputs": [],
   "source": [
    "cds_db"
   ]
  },
  {
   "cell_type": "code",
   "execution_count": 4,
   "metadata": {},
   "outputs": [],
   "source": [
    "def get_gene_record(identifier,by,source=\"feature_db_part1.txt\"):\n",
    "    gene_db = pd.read_table(source)\n",
    "    if by == \"gene_id\":\n",
    "        gene_id = identifier\n",
    "        if sum(gene_db.gene_id==gene_id)<1:\n",
    "            print (\"Not found in our database\")\n",
    "            sys.exit()\n",
    "        else:\n",
    "            return gene_db[gene_db.gene_id==gene_id]\n",
    "    else:\n",
    "        gene_name = identifier\n",
    "        if sum(gene_db.gene_name==gene_name)<1:\n",
    "            print (\"Not found in our database\")\n",
    "            sys.exit()\n",
    "        else:\n",
    "            return gene_db[gene_db.gene_name==gene_name]        "
   ]
  },
  {
   "cell_type": "code",
   "execution_count": 5,
   "metadata": {},
   "outputs": [],
   "source": [
    "def fa_parser(fh):\n",
    "    seq_id = None\n",
    "    seq=[]\n",
    "    for line in fh:\n",
    "        line=line.rstrip()\n",
    "        if line.startswith(\">\"):\n",
    "            if seq_id:\n",
    "                yield(seq_id,\"\".join(seq))\n",
    "            seq_id=line[1:]\n",
    "            seq=[]\n",
    "        else:\n",
    "            seq.append(line)\n",
    "    if seq_id: yield(seq_id,\"\".join(seq))      "
   ]
  },
  {
   "cell_type": "code",
   "execution_count": 6,
   "metadata": {},
   "outputs": [],
   "source": [
    "class Gene:\n",
    "    def __init__(self,**kwargs):\n",
    "        self.gene_id= kwargs.get(\"gene_id\",-1)\n",
    "        self.gene_name=kwargs.get(\"gene_name\",-1)\n",
    "        legal_arg=[\"gene_id\",\"gene_name\"]\n",
    "        if not [i for i in kwargs.keys()][0] in legal_arg:\n",
    "            raise ValueError(\"must init with gene_id or gene_name\")\n",
    "        else:\n",
    "            if  self.gene_id != -1:\n",
    "                record_df = get_gene_record(self.gene_id,by=\"gene_id\")\n",
    "                self.gene_name = [i for i in record_df.gene_name][0]\n",
    "                self.record_df = record_df\n",
    "                self.index = int([i for i in record_df.index][0])\n",
    "            else:\n",
    "                record_df = get_gene_record(self.gene_name,by=\"gene_name\")\n",
    "                self.gene_id = [i for i in record_df.gene_id][0]\n",
    "                self.record_df = record_df\n",
    "                self.index = int([i for i in record_df.index][0])\n",
    "    def get_cds_record(self, source=\"feature_db_part2.txt\"):\n",
    "        cds_db = pd.read_table(source)\n",
    "        cds_records = cds_db[cds_db.gene_name == self.gene_name]\n",
    "        return cds_records\n",
    "    \n",
    "    def get_longest_cds(self, source =\"feature_db_part2.txt\"):\n",
    "        cds_records = self.get_cds_record(source=source)\n",
    "        index_longest_cds = cds_records.length.idxmax()\n",
    "        return cds_records.loc[index_longest_cds,:]\n",
    "    \n",
    "    def get_neighbor_records(self,source=\"feature_db_part1.txt\"):\n",
    "        gene_db = pd.read_table(source)\n",
    "        total_row =  gene_db.shape[0]\n",
    "        row_index = self.index\n",
    "        if row_index >9 and row_index < total_row-9:\n",
    "            df_left = gene_db.iloc[row_index-10:row_index,:]\n",
    "            df_right= gene_db.iloc[row_index+1:row_index+11,:]\n",
    "            return([df_left,df_right])\n",
    "        elif row_index <=9 :\n",
    "            df_left= gene_db.iloc[0:row_index,:]\n",
    "            df_right= gene_db.iloc[row_index+1:21,:]\n",
    "            return([df_left,df_right])\n",
    "        else:\n",
    "            df_left=gene_db.iloc[total_row-21:row_index,:]\n",
    "            df_right = gene_db.iloc[row_index+1:total_row+1,:]\n",
    "            return ([df_left,df_right])\n",
    "    def get_cds_fasta (self,fasta_source = \"dmel-all-CDS-r6.26.fasta\"):\n",
    "        cds_name = self.get_longest_cds()[\"CDS_name\"]\n",
    "        with open(fasta_source) as fh:\n",
    "            fasta_records = fa_parser(fh)\n",
    "            for seq_id,seq in fasta_records:\n",
    "                space_index = seq_id.index(\" \")\n",
    "                seq_name = seq_id[:space_index]\n",
    "                if seq_name == cds_name:\n",
    "                    return \"\\n\".join([\">\"+seq_name,seq])   "
   ]
  },
  {
   "cell_type": "code",
   "execution_count": 7,
   "metadata": {},
   "outputs": [
    {
     "data": {
      "text/plain": [
       "'>CG18609-PA\\nATGCTCCGATACTTGCGCATACCTCAAGCGGATCCTAACCCAATTCCGCTGGCTGGATCACCATGGCCTATCACACTGATTTTGATAGCATATCTGTTGTTTGTCCTTAAATTGGGCAAGATCTTTATGAGAAACCGGAAACCATATGATTTGAAAACGGTCTTGAAGGTCTACAATCTATTTCAGGTGCTATACAATGGTCTCTACTTCGGAATGGTTTTTTATTATCTCTTCATCGTGGGCATTTGCAATCTGCACTGCATAGAAAGCTTTCCCGAGGGCCATGAACGCAAACAATTGGAACGAGTATTGCATGCCGCATATCTGCTGAACAAGGTCCTCGATCTTATGGATACGGTGTTCTTTGTGCTGCGAAAGAGCTATAAGCAGATCACCTTCCTGCACATATATCACCACGTGTTCATGTCCTTTGGAAGTTATGCCCTAACCCGTTACTATGGAACTGGAGGCCATGTCAATGCCGTTGGACTGCTGAACTCCTTGGTGCACACGGTCATGTATTTCTACTACTTTCTGTCTTCAGAATATCCCGGAGTGAGGGCCAATATCTGGTGGAAGAAGTATATAACATTGACACAGCTCTGCCAGTTCTTCATGCTGCTCAGTTATGCCATCTATGTGCGATTCTTTTCACCGAATTGTGGCGTTCCACGCGGTCTTCTCTATCTAAATATGGTGCAAGGCGTTGTGTTCATTTATCTGTTTGGTAAATTCTATATCGACAACTATCTGAGACCTCCGAAGGCGAAAATCAACGCAAAGCAATCGTAG'"
      ]
     },
     "execution_count": 7,
     "metadata": {},
     "output_type": "execute_result"
    }
   ],
   "source": [
    "test=Gene(gene_name=\"CG18609\")\n",
    "test.get_cds_fasta()"
   ]
  },
  {
   "cell_type": "code",
   "execution_count": 10,
   "metadata": {},
   "outputs": [
    {
     "data": {
      "text/plain": [
       "'>Nep3-PA\\nATGACGCGCTACAAGCAGACCGAATTCACGGAGGACGACTCGAGTTCCATCGGCGGCATTCAATTGAACGAAGCGACCGGCCATACGGGCATGCAGATACGCTACCACACCGCCCGGGCTACATGGAATTGGCGCTCGAGAAACAAGACGGAGAAATGGCTGCTCATCACGACTTTTGTGATGGCCATCACGATCTTTACGCTGCTCATCGTCCTTTTCACAGATGGAGGCAGCAGCGATGCGACCAAGCACGTCCTTCACGTCCAGCCGCACCAAAAAGATTGTCCTTCCGGCAATGAGCTTCCTTGCTTGAACAAGCACTGCATCTTCGCCTCGAGCGAGATCCTTAAATCGATCGATGTGACCGTGGATCCGTGCGATGACTTCTATGGATATTCCTGCAATCAATGGATCAAGAACAACCCCATTCCCGAGGGGAAATCCACGTGGGGTACGTTCGGCAAGCTGGAGCAGATGAACCAGTTGATAATACGTAACGTACTGGAGAAGCCGGCAAAAAGCTTTAAGTCGGACGCGGAGCGGAAGGCTAAGGTTTACTATGAATCATGCCTGGATGCGGATGAGCACATGGAGAAGTTGGGGGCAAAGCCCATGAACGATCTACTGCTGCAGATCGGAGGATGGAACGTGACCAAGAGCGGCTACAACGTGGCCAACTGGACGATGGGACACACTCTAAAGATTCTTCATAACAAGTACAACTTCAACTGCCTGTTTGGCTGGGCGATCGGTGAGGATGACAAGAACTCCTCGCGTCACGTCATCCAGATCGATCAGGGCGGTCTGACGCTGCCCACCGCCGACTACTACAACAACAAGACGGACAATCACCGCAAGGTGCTCAACGAGTACATTGAGTACATGACCAAGGTGTGCGTCCTGCTCGGGGCCAACGAATCGGATGCCCGCGCTCAGATGATCGGCGTCATTAATTTCGAGAAGAAGCTGGCCAATATCACCATTCCGCTGGAGGATCGCCGCAACGAGGAGGCCATGTATCATCCGATGCAGCTGCGACAGCTGTCCAAACTGGCGCCGTTCCTCAACTGGACGGATCACTTTGACAATGCTATGCAGATGGTGGGTCGCCGGGTCACCGACGACGAGGTGGTTGTCGTCTACGCACCCGACTTCCTAAAGAACCTATCGGACATCATTCTCAAGATGGAACAGACCGAGGAGGGAAAAATCACCTTGAACAATTATCTCGTCTGGCAGGCGGTACGCACGCTGACCAGTTGCTTGTCCAAACCATTCCGGGATGCCTATAAGGGCGTGAGGAAGGCCCTCATGGGATCGGATGGCGGCGAGGAGATCTGGCGATACTGCGTCTCGGACACAAACAATGTGGTTGGTTTCGCCGTGGGTGCTATCTTTGTGCGTCAGGCATTTCATGGAGAGTCGAAGCCGGCGGCCGAGCAGATGATCGCCGAGATCCGCGAGGCCTTCAAGATGAATCTACAGAATTTGACCTGGGTGGACAAGCAGACGCGCGAGAAGGCCATCGAGAAGGCCAACCAGATTTCGGACATGATCGGATTCCCCGACTATATTCTAGATCCTGTAGAACTGGACAAGAAGTACGCGGAGTTGAACATTACACCGAATGCCTACTTTGAGAACAACATCCAGGTGGCCATCTACAATCTGAAGAGCAACCTGAAGCGTCTCGACCAACCGGTGAATAAGACCAACTGGGGCATGACTCCGCAGACGGTCAACGCCTACTACACGCCCACCAAGAACCAAATCGTCTTTCCCGCGGGCATTCTGCAGACGCCCTTTTTCGACATAAACAACCCAAAGAGCCTTAATTTCGGGGCCATGGGCGTGGTCATGGGCCACGAACTGACCCATGCCTTCGATGATCAGGGGCGTGAGTACGATAAGTTTGGCAACATCAATCGCTGGTGGGACTCCAAGAGCATCGAGCGGTTTAACGAAAAGTCCGAATGCATTGCCAGGCAGTACAGTGGATACAAGATGAACGGACGCACACTCAACGGCAAGCAGACGTTGGGCGAAAATATAGCCGACAATGGCGGCTTAAAGGCGGCCTACCACGCCTACCAGCGAACCAAGAGCGACCGTGATGTGGATATCTTGAAGCTACCGGGCCTGAATCTCACGCACTCGCAGCTCTTCTTTGTGTCCTTCGCCCAGGTCTGGTGCTCCAGCACAACGGATGAAACGAACCTGCTGCAGATGGAGAAGGATCCGCACTCGCCGTCGCAGTTTCGGGTGATCGGCACATTGTCGAACATGAAGGAGTTCGCCGAGGTCTTCCAGTGCAAGCCCGGCAAACGGATGAATCCCACTGAGAAGTGCGAGGTGTGGTAA'"
      ]
     },
     "execution_count": 10,
     "metadata": {},
     "output_type": "execute_result"
    }
   ],
   "source": [
    "test=Gene(gene_name=\"Nep3\")\n",
    "test.get_cds_fasta()"
   ]
  },
  {
   "cell_type": "code",
   "execution_count": null,
   "metadata": {},
   "outputs": [],
   "source": []
  },
  {
   "cell_type": "code",
   "execution_count": null,
   "metadata": {},
   "outputs": [],
   "source": []
  },
  {
   "cell_type": "code",
   "execution_count": 11,
   "metadata": {},
   "outputs": [
    {
     "data": {
      "text/html": [
       "<div>\n",
       "<style scoped>\n",
       "    .dataframe tbody tr th:only-of-type {\n",
       "        vertical-align: middle;\n",
       "    }\n",
       "\n",
       "    .dataframe tbody tr th {\n",
       "        vertical-align: top;\n",
       "    }\n",
       "\n",
       "    .dataframe thead th {\n",
       "        text-align: right;\n",
       "    }\n",
       "</style>\n",
       "<table border=\"1\" class=\"dataframe\">\n",
       "  <thead>\n",
       "    <tr style=\"text-align: right;\">\n",
       "      <th></th>\n",
       "      <th>gene_id</th>\n",
       "      <th>chrom</th>\n",
       "      <th>start</th>\n",
       "      <th>end</th>\n",
       "      <th>number_of_cds</th>\n",
       "      <th>gene_name</th>\n",
       "      <th>name_alias</th>\n",
       "    </tr>\n",
       "  </thead>\n",
       "  <tbody>\n",
       "    <tr>\n",
       "      <th>12959</th>\n",
       "      <td>FBgn0267043</td>\n",
       "      <td>X</td>\n",
       "      <td>19914482</td>\n",
       "      <td>19915281</td>\n",
       "      <td>2</td>\n",
       "      <td>CG45487</td>\n",
       "      <td>NaN</td>\n",
       "    </tr>\n",
       "    <tr>\n",
       "      <th>12960</th>\n",
       "      <td>FBgn0267044</td>\n",
       "      <td>X</td>\n",
       "      <td>19919641</td>\n",
       "      <td>19920435</td>\n",
       "      <td>2</td>\n",
       "      <td>CG45488</td>\n",
       "      <td>NaN</td>\n",
       "    </tr>\n",
       "    <tr>\n",
       "      <th>12961</th>\n",
       "      <td>FBgn0267045</td>\n",
       "      <td>X</td>\n",
       "      <td>19928416</td>\n",
       "      <td>19929178</td>\n",
       "      <td>2</td>\n",
       "      <td>CG45489</td>\n",
       "      <td>NaN</td>\n",
       "    </tr>\n",
       "    <tr>\n",
       "      <th>12962</th>\n",
       "      <td>FBgn0267046</td>\n",
       "      <td>X</td>\n",
       "      <td>19933541</td>\n",
       "      <td>19934294</td>\n",
       "      <td>2</td>\n",
       "      <td>CG45490</td>\n",
       "      <td>NaN</td>\n",
       "    </tr>\n",
       "    <tr>\n",
       "      <th>12963</th>\n",
       "      <td>FBgn0267047</td>\n",
       "      <td>X</td>\n",
       "      <td>19938232</td>\n",
       "      <td>19938994</td>\n",
       "      <td>2</td>\n",
       "      <td>CG45491</td>\n",
       "      <td>NaN</td>\n",
       "    </tr>\n",
       "    <tr>\n",
       "      <th>12964</th>\n",
       "      <td>FBgn0267048</td>\n",
       "      <td>X</td>\n",
       "      <td>19943357</td>\n",
       "      <td>19944147</td>\n",
       "      <td>2</td>\n",
       "      <td>CG45492</td>\n",
       "      <td>NaN</td>\n",
       "    </tr>\n",
       "    <tr>\n",
       "      <th>12965</th>\n",
       "      <td>FBgn0267049</td>\n",
       "      <td>X</td>\n",
       "      <td>19948079</td>\n",
       "      <td>19948873</td>\n",
       "      <td>2</td>\n",
       "      <td>CG45493</td>\n",
       "      <td>NaN</td>\n",
       "    </tr>\n",
       "    <tr>\n",
       "      <th>12966</th>\n",
       "      <td>FBgn0267050</td>\n",
       "      <td>X</td>\n",
       "      <td>19952814</td>\n",
       "      <td>19953608</td>\n",
       "      <td>2</td>\n",
       "      <td>CG45494</td>\n",
       "      <td>NaN</td>\n",
       "    </tr>\n",
       "    <tr>\n",
       "      <th>12967</th>\n",
       "      <td>FBgn0264309</td>\n",
       "      <td>X</td>\n",
       "      <td>19957548</td>\n",
       "      <td>19958342</td>\n",
       "      <td>2</td>\n",
       "      <td>CG43784</td>\n",
       "      <td>CR43784</td>\n",
       "    </tr>\n",
       "    <tr>\n",
       "      <th>12968</th>\n",
       "      <td>FBgn0031080</td>\n",
       "      <td>X</td>\n",
       "      <td>19958393</td>\n",
       "      <td>19959403</td>\n",
       "      <td>2</td>\n",
       "      <td>CG12655</td>\n",
       "      <td>NaN</td>\n",
       "    </tr>\n",
       "  </tbody>\n",
       "</table>\n",
       "</div>"
      ],
      "text/plain": [
       "           gene_id chrom     start       end  number_of_cds gene_name  \\\n",
       "12959  FBgn0267043     X  19914482  19915281              2   CG45487   \n",
       "12960  FBgn0267044     X  19919641  19920435              2   CG45488   \n",
       "12961  FBgn0267045     X  19928416  19929178              2   CG45489   \n",
       "12962  FBgn0267046     X  19933541  19934294              2   CG45490   \n",
       "12963  FBgn0267047     X  19938232  19938994              2   CG45491   \n",
       "12964  FBgn0267048     X  19943357  19944147              2   CG45492   \n",
       "12965  FBgn0267049     X  19948079  19948873              2   CG45493   \n",
       "12966  FBgn0267050     X  19952814  19953608              2   CG45494   \n",
       "12967  FBgn0264309     X  19957548  19958342              2   CG43784   \n",
       "12968  FBgn0031080     X  19958393  19959403              2   CG12655   \n",
       "\n",
       "      name_alias  \n",
       "12959        NaN  \n",
       "12960        NaN  \n",
       "12961        NaN  \n",
       "12962        NaN  \n",
       "12963        NaN  \n",
       "12964        NaN  \n",
       "12965        NaN  \n",
       "12966        NaN  \n",
       "12967    CR43784  \n",
       "12968        NaN  "
      ]
     },
     "execution_count": 11,
     "metadata": {},
     "output_type": "execute_result"
    }
   ],
   "source": [
    "# LEFT FLANK\n",
    "test.get_neighbor_records()[0]"
   ]
  },
  {
   "cell_type": "code",
   "execution_count": null,
   "metadata": {},
   "outputs": [],
   "source": [
    "# RIGHT FLANK\n",
    "test.get_neighbor_records()[1]"
   ]
  },
  {
   "cell_type": "code",
   "execution_count": null,
   "metadata": {},
   "outputs": [],
   "source": [
    "test.record_df"
   ]
  },
  {
   "cell_type": "code",
   "execution_count": null,
   "metadata": {},
   "outputs": [],
   "source": []
  },
  {
   "cell_type": "code",
   "execution_count": null,
   "metadata": {},
   "outputs": [],
   "source": []
  },
  {
   "cell_type": "code",
   "execution_count": null,
   "metadata": {},
   "outputs": [],
   "source": []
  },
  {
   "cell_type": "code",
   "execution_count": null,
   "metadata": {},
   "outputs": [],
   "source": []
  },
  {
   "cell_type": "code",
   "execution_count": null,
   "metadata": {},
   "outputs": [],
   "source": []
  },
  {
   "cell_type": "code",
   "execution_count": null,
   "metadata": {},
   "outputs": [],
   "source": []
  },
  {
   "cell_type": "code",
   "execution_count": null,
   "metadata": {},
   "outputs": [],
   "source": []
  },
  {
   "cell_type": "code",
   "execution_count": null,
   "metadata": {},
   "outputs": [],
   "source": []
  },
  {
   "cell_type": "code",
   "execution_count": null,
   "metadata": {},
   "outputs": [],
   "source": []
  }
 ],
 "metadata": {
  "kernelspec": {
   "display_name": "Python 3",
   "language": "python",
   "name": "python3"
  },
  "language_info": {
   "codemirror_mode": {
    "name": "ipython",
    "version": 3
   },
   "file_extension": ".py",
   "mimetype": "text/x-python",
   "name": "python",
   "nbconvert_exporter": "python",
   "pygments_lexer": "ipython3",
   "version": "3.7.1"
  }
 },
 "nbformat": 4,
 "nbformat_minor": 2
}
